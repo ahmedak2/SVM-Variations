{
 "metadata": {
  "language_info": {
   "codemirror_mode": {
    "name": "ipython",
    "version": 3
   },
   "file_extension": ".py",
   "mimetype": "text/x-python",
   "name": "python",
   "nbconvert_exporter": "python",
   "pygments_lexer": "ipython3",
   "version": "3.8.3-final"
  },
  "orig_nbformat": 2,
  "kernelspec": {
   "name": "python3",
   "display_name": "Python 3"
  }
 },
 "nbformat": 4,
 "nbformat_minor": 2,
 "cells": [
  {
   "cell_type": "code",
   "execution_count": null,
   "metadata": {},
   "outputs": [],
   "source": [
    "# Setup code for Google Colab\n",
    "USE_COLAB = True\n",
    "GOOGLE_DRIVE_PATH = ''\n",
    "if USE_COLAB:\n",
    "    print(\"Using Colab!\")\n",
    "    %load_ext autoreload\n",
    "    %autoreload 2\n",
    "\n",
    "    from google.colab import drive\n",
    "    drive.mount('/content/drive')\n",
    "\n",
    "    import os\n",
    "    GOOGLE_DRIVE_PATH_AFTER_MYDRIVE = 'Fall20/ML Project'\n",
    "    GOOGLE_DRIVE_PATH = os.path.join('drive', 'My Drive', GOOGLE_DRIVE_PATH_AFTER_MYDRIVE)\n",
    "    print(os.listdir(GOOGLE_DRIVE_PATH))\n",
    "\n",
    "    import sys\n",
    "    sys.path.append(GOOGLE_DRIVE_PATH)\n",
    "\n",
    "    import torch\n",
    "    import torch.nn as nn\n",
    "    import torch.nn.functional as F\n",
    "    import torchvision\n",
    "    import statistics\n",
    "    import random\n",
    "    import time\n",
    "    import math\n",
    "    import numpy as np\n",
    "    import cv2\n",
    "    import copy\n",
    "    import shutil\n",
    "    import os\n",
    "    import json\n",
    "\n",
    "    import matplotlib.pyplot as plt\n",
    "    %matplotlib inline\n",
    "\n",
    "    !pip3 install -q idx2numpy\n",
    "\n",
    "    if torch.cuda.is_available:\n",
    "      print('Good to go!')\n",
    "    else:\n",
    "      print('Please set GPU via Edit -> Notebook Settings.')"
   ]
  },
  {
   "cell_type": "code",
   "execution_count": null,
   "metadata": {},
   "outputs": [],
   "source": [
    "import Mnist_loader as mnist\n",
    "\n",
    "x_train, y_train, x_test, y_test = mnist.load_odd_even_Mnist(USE_COLAB=True, path=GOOGLE_DRIVE_PATH)"
   ]
  },
  {
   "cell_type": "code",
   "execution_count": null,
   "metadata": {},
   "outputs": [],
   "source": [
    "\n",
    "Ks = [1,2,4,8,10]\n",
    "lambs = [1,5,10,20,50,100]\n",
    "lrs = [1e-3, 1e-2, 5e-2, 1e-1, 5e-1, 1]\n",
    "\n",
    "folds = 10\n",
    "\n",
    "N = x_train.shape[0]\n",
    "\n",
    "indices = torch.randperm(N)\n",
    "length = N // folds\n",
    "\n",
    "max_acc = 0.0\n",
    "max_reg = 0.0\n",
    "max_lr = 0.0"
   ]
  },
  {
   "cell_type": "code",
   "execution_count": 1,
   "metadata": {},
   "outputs": [
    {
     "output_type": "error",
     "ename": "ModuleNotFoundError",
     "evalue": "No module named 'Evaluate_model'",
     "traceback": [
      "\u001b[1;31m---------------------------------------------------------------------------\u001b[0m",
      "\u001b[1;31mModuleNotFoundError\u001b[0m                       Traceback (most recent call last)",
      "\u001b[1;32m<ipython-input-1-c385dc80b4af>\u001b[0m in \u001b[0;36m<module>\u001b[1;34m\u001b[0m\n\u001b[0;32m      1\u001b[0m \u001b[1;32mfrom\u001b[0m \u001b[0mCSVM_class\u001b[0m \u001b[1;32mimport\u001b[0m \u001b[1;33m*\u001b[0m\u001b[1;33m\u001b[0m\u001b[1;33m\u001b[0m\u001b[0m\n\u001b[1;32m----> 2\u001b[1;33m \u001b[1;32mfrom\u001b[0m \u001b[0mEvaluate_model\u001b[0m \u001b[1;32mimport\u001b[0m \u001b[1;33m*\u001b[0m\u001b[1;33m\u001b[0m\u001b[1;33m\u001b[0m\u001b[0m\n\u001b[0m\u001b[0;32m      3\u001b[0m \u001b[1;33m\u001b[0m\u001b[0m\n\u001b[0;32m      4\u001b[0m \u001b[0mfolds\u001b[0m \u001b[1;33m=\u001b[0m \u001b[1;36m10\u001b[0m\u001b[1;33m\u001b[0m\u001b[1;33m\u001b[0m\u001b[0m\n\u001b[0;32m      5\u001b[0m \u001b[1;33m\u001b[0m\u001b[0m\n",
      "\u001b[1;31mModuleNotFoundError\u001b[0m: No module named 'Evaluate_model'"
     ]
    }
   ],
   "source": [
    "from CSVM_class import *\n",
    "from Evaluate_models import *\n",
    "\n",
    "for K in Ks:\n",
    "    for lamb in lambs:\n",
    "        for lr in lrs:\n",
    "            acc = torch.zeros(folds)\n",
    "            for f in range(folds):\n",
    "                x_cross = torch.cat((x_train[indicies[0:f*length]],x_train[indicies[(f+1)*length:]]),dim=0)\n",
    "                y_cross = torch.cat((y_train[indicies[0:f*length]],y_train[indicies[(f+1)*length:]]),dim=0)\n",
    "                x_val = x[indicies[f*length:(f+1)*length]]\n",
    "                y_val = y[indicies[f*length:(f+1)*length]]\n",
    "\n",
    "                model = ClusterSVM(K=K, lamb=lamb)\n",
    "                model.train(x_cross,y_cross, learning_rate=lr)\n",
    "\n",
    "                y_pred = model.predict(x_val)\n",
    "                acc[f] = ((y_val==y_pred).sum()) / float(y_val.shape[0])\n",
    "            \n",
    "            acc_mean = acc.mean()\n",
    "            if(acc_mena > max_acc):\n",
    "                max_acc = acc_mean\n",
    "                max_lamb = lamb\n",
    "                max_lr = lr\n",
    "                max_K = K\n",
    "\n",
    "            print(\"at K = {}, lamb = {}, lr = {}: get acc = {}\".format(K,lamb,lr,acc_mean))\n",
    "\n",
    "print(\"Maximum accuracy = {} at: K = {}, lamb = {}, lr = {}\".format(max_acc,max_K,max_l))\n"
   ]
  },
  {
   "cell_type": "code",
   "execution_count": null,
   "metadata": {},
   "outputs": [],
   "source": [
    "model = ClusterSVM(K=max_K,lamb=max_lamb)\n",
    "\n",
    "comp_time, acc = evaluate_model(model,x_train,y_train,x_test,ytest)"
   ]
  }
 ]
}