{
 "cells": [
  {
   "cell_type": "code",
   "execution_count": null,
   "metadata": {},
   "outputs": [],
   "source": [
    "\"\"\"\n",
    "kernel SVM by python:\n",
    "https://pythonprogramming.net/soft-margin-kernel-cvxopt-svm-machine-learning-tutorial/\n",
    "\n",
    "QP solver:\n",
    "https://cvxopt.org/userguide/coneprog.html#s-qp\n",
    "https://cvxopt.org/examples/tutorial/qp.html\n",
    "\"\"\"\n",
    "\n",
    "import numpy as np\n",
    "# from numpy import linalg\n",
    "import torch\n",
    "import cvxopt\n",
    "import cvxopt.solvers\n",
    "\n",
    "def linear_kernel(x1, x2):\n",
    "    \"\"\"\n",
    "    x1 and x2 are np.array or torch.tensor with shape (D,) where D is the dimension.\n",
    "    \"\"\"\n",
    "    return np.dot(x1, x2)\n",
    "\n",
    "class kernelSVM(object):\n",
    "    def __init__(self, kernel, C=None):\n",
    "        self.kernel = kernel\n",
    "        if C is not None: # without slack variables\n",
    "            self.C = float(self.C)\n",
    "        else: # with slack variables\n",
    "            self.C = C\n",
    "        self.alpha = None\n",
    "        self.sv = None\n",
    "        self.sv_y = None\n",
    "        self.b = None\n",
    "    \n",
    "    def train(self, X, y):\n",
    "        \"\"\"\n",
    "        X: A PyTorch tensor of shape (N, D) containing N data points and each point has dimension D.\n",
    "        y: A PyTorch tensor of shape (N,) containing labels for the data.\n",
    "        \"\"\"\n",
    "        N, D = X.shape[0], X.shape[1]\n",
    "        \n",
    "        # Create kernel matrix K\n",
    "        K = np.zeros((N, N))\n",
    "        for i in range(N):\n",
    "            for j in range(N):\n",
    "                K[i,j] = self.kernel(X[i,:], X[i,:])\n",
    "        \n",
    "        # Set up QP problem\n",
    "        P = cvxopt.matrix(np.outer(y, y) * K)\n",
    "        q = cvxpot.matrix(-np.ones(N))\n",
    "        A = cvopt.matrix(y, (1,N)) # reshape as 2D\n",
    "        b = cvopt.matrix(0.0)\n",
    "        \n",
    "        if self.C is None:\n",
    "            G = cvxopt.matrix(np.diag(-np.ones(N)))\n",
    "            h = cvxopt.matrix(np.zeros(N))\n",
    "        else:\n",
    "            G = cvxopt.matrix(np.vstack((np.diag(-np.ones(N)), np.identity(N))))\n",
    "            h = cvxopt.matrix(np.hstack((np.zeros(N), np.ones(N)*self.C)))\n",
    "        \n",
    "        # Solve alpha by QP\n",
    "        solution = cvxopt.solvers.qp(P, q, G, h, A, b)\n",
    "        alpha = np.ravel(solution['x'])\n",
    "        \n",
    "        # Save support vectors\n",
    "        \n"
   ]
  },
  {
   "cell_type": "code",
   "execution_count": 10,
   "metadata": {},
   "outputs": [
    {
     "name": "stdout",
     "output_type": "stream",
     "text": [
      "1.0\n",
      "<class 'numpy.float64'>\n"
     ]
    }
   ],
   "source": [
    "import numpy as np\n",
    "# from numpy import linalg\n",
    "import torch\n",
    "a = torch.tensor([1.,1])\n",
    "b = torch.tensor([0,1])\n",
    "c = np.dot(a,b)\n",
    "print(c)\n",
    "print(type(c))"
   ]
  },
  {
   "cell_type": "code",
   "execution_count": 12,
   "metadata": {},
   "outputs": [
    {
     "name": "stdout",
     "output_type": "stream",
     "text": [
      "[[-1. -0. -0. -0. -0.]\n",
      " [-0. -1. -0. -0. -0.]\n",
      " [-0. -0. -1. -0. -0.]\n",
      " [-0. -0. -0. -1. -0.]\n",
      " [-0. -0. -0. -0. -1.]]\n",
      "[[-1.  0.  0.  0.  0.]\n",
      " [ 0. -1.  0.  0.  0.]\n",
      " [ 0.  0. -1.  0.  0.]\n",
      " [ 0.  0.  0. -1.  0.]\n",
      " [ 0.  0.  0.  0. -1.]]\n"
     ]
    }
   ],
   "source": [
    "print(-np.identity(5))\n",
    "print(np.diag(-np.ones(5)))"
   ]
  },
  {
   "cell_type": "code",
   "execution_count": null,
   "metadata": {},
   "outputs": [],
   "source": []
  }
 ],
 "metadata": {
  "kernelspec": {
   "display_name": "Python 3",
   "language": "python",
   "name": "python3"
  },
  "language_info": {
   "codemirror_mode": {
    "name": "ipython",
    "version": 3
   },
   "file_extension": ".py",
   "mimetype": "text/x-python",
   "name": "python",
   "nbconvert_exporter": "python",
   "pygments_lexer": "ipython3",
   "version": "3.8.3"
  }
 },
 "nbformat": 4,
 "nbformat_minor": 4
}
