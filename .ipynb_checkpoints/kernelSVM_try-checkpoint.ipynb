{
 "cells": [
  {
   "cell_type": "code",
   "execution_count": 3,
   "metadata": {
    "colab": {
     "base_uri": "https://localhost:8080/"
    },
    "executionInfo": {
     "elapsed": 5091,
     "status": "ok",
     "timestamp": 1606924069077,
     "user": {
      "displayName": "Wei-Chun Lu",
      "photoUrl": "",
      "userId": "07494191892919665618"
     },
     "user_tz": 300
    },
    "id": "YJQsltEnHVST",
    "outputId": "014c7b7b-f5fb-41ff-8f4c-18852317c867"
   },
   "outputs": [
    {
     "name": "stdout",
     "output_type": "stream",
     "text": [
      "Using Colab!\n",
      "The autoreload extension is already loaded. To reload it, use:\n",
      "  %reload_ext autoreload\n",
      "Drive already mounted at /content/drive; to attempt to forcibly remount, call drive.mount(\"/content/drive\", force_remount=True).\n",
      "['toy_data.mat', '__pycache__', 'functions.py', 'kernelSVM_try.ipynb', 'KernelSVM.py']\n",
      "Good to go!\n"
     ]
    }
   ],
   "source": [
    "# Setup code for Google Colab\n",
    "USE_COLAB = True\n",
    "if USE_COLAB:\n",
    "    print(\"Using Colab!\")\n",
    "    %load_ext autoreload\n",
    "    %autoreload 2\n",
    "\n",
    "    from google.colab import drive\n",
    "    drive.mount('/content/drive')\n",
    "\n",
    "    import os\n",
    "    GOOGLE_DRIVE_PATH_AFTER_MYDRIVE = 'EECS545/SVM-Variations'\n",
    "    GOOGLE_DRIVE_PATH = os.path.join('drive', 'MyDrive', GOOGLE_DRIVE_PATH_AFTER_MYDRIVE)\n",
    "    print(os.listdir(GOOGLE_DRIVE_PATH))\n",
    "\n",
    "    import sys\n",
    "    sys.path.append(GOOGLE_DRIVE_PATH)\n",
    "\n",
    "    import torch\n",
    "    import torch.nn as nn\n",
    "    import torch.nn.functional as F\n",
    "    import torchvision\n",
    "    import statistics\n",
    "    import random\n",
    "    import time\n",
    "    import math\n",
    "    import numpy as np\n",
    "    import cv2\n",
    "    import copy\n",
    "    import shutil\n",
    "    import os\n",
    "    import json\n",
    "\n",
    "    import matplotlib.pyplot as plt\n",
    "    %matplotlib inline\n",
    "\n",
    "    !pip3 install -q idx2numpy\n",
    "\n",
    "    # install qp solver\n",
    "    !pip3 install -q qpth\n",
    "    import qpth\n",
    "\n",
    "    if torch.cuda.is_available:\n",
    "      print('Good to go!')\n",
    "    else:\n",
    "      print('Please set GPU via Edit -> Notebook Settings.')"
   ]
  },
  {
   "cell_type": "code",
   "execution_count": 1,
   "metadata": {
    "colab": {
     "base_uri": "https://localhost:8080/",
     "height": 286
    },
    "executionInfo": {
     "elapsed": 8325,
     "status": "ok",
     "timestamp": 1606924115840,
     "user": {
      "displayName": "Wei-Chun Lu",
      "photoUrl": "",
      "userId": "07494191892919665618"
     },
     "user_tz": 300
    },
    "id": "k9KStCr4HTPe",
    "outputId": "594aa1e7-7388-4f17-e758-d584cbb3a23c"
   },
   "outputs": [
    {
     "name": "stdout",
     "output_type": "stream",
     "text": [
      "X: torch.Size([400, 2]) , Y: torch.Size([400]) , on cpu\n",
      "accuracy =  1.0\n"
     ]
    },
    {
     "data": {
      "image/png": "[encoded data removed]",
      "text/plain": [
       "<Figure size 432x288 with 1 Axes>"
      ]
     },
     "metadata": {
      "needs_background": "light"
     },
     "output_type": "display_data"
    }
   ],
   "source": [
    "# Test kernel SVM by toy example\n",
    "import torch\n",
    "import qpth\n",
    "import matplotlib.pyplot as plt\n",
    "from functions import *\n",
    "import scipy.io as sio\n",
    "from KernelSVM import *\n",
    "\n",
    "# Colab with GPU\n",
    "# X, Y = load_data(\"toy_example\", os.path.join(GOOGLE_DRIVE_PATH, \"toy_data.mat\"), \"gpu\")\n",
    "# plot_data(X.cpu(), Y.cpu())\n",
    "# Colab with CPU\n",
    "# X, Y = load_data(\"toy_example\", os.path.join(GOOGLE_DRIVE_PATH, \"toy_data.mat\")) # four clusters\n",
    "# plot_data(X, Y)\n",
    "# Run locally with CPU\n",
    "X, Y = load_data(\"toy_example\") # four clusters\n",
    "plot_data(X, Y)\n",
    "\n",
    "# kernel = linear_kernel\n",
    "kernel = gaussian_kernel\n",
    "KSVM = apply_KSVM(kernel, X, Y)\n",
    "KSVM.plot_classifier([-3, 3, -3, 3])"
   ]
  },
  {
   "cell_type": "code",
   "execution_count": null,
   "metadata": {},
   "outputs": [],
   "source": [
    "# Mnist Test Code\n",
    "import Mnist_loader as mnist\n",
    "x_train, y_train, x_test, y_test = mnist.load_odd_even_Mnist()\n",
    "x_train, x_test, mu, std = mnist.preprocess_Mnist(x_train, x_test)\n",
    "kernel = gaussian_kernel\n",
    "apply_KSVM(kernel, x_train, y_train, x_test, y_test)"
   ]
  },
  {
   "cell_type": "code",
   "execution_count": 6,
   "metadata": {
    "colab": {
     "base_uri": "https://localhost:8080/"
    },
    "executionInfo": {
     "elapsed": 467,
     "status": "ok",
     "timestamp": 1606920352311,
     "user": {
      "displayName": "Wei-Chun Lu",
      "photoUrl": "",
      "userId": "07494191892919665618"
     },
     "user_tz": 300
    },
    "id": "hQ0m0ej67lYE",
    "outputId": "513ecf5a-7c9f-4b15-b845-1e44cb323712"
   },
   "outputs": [
    {
     "name": "stdout",
     "output_type": "stream",
     "text": [
      "iter: 0, pri_resid: 2.98023e-08, dual_resid: 2.35702e+00, mu: 5.55556e-01\n",
      "iter: 1, pri_resid: 6.66400e-08, dual_resid: 6.12515e-02, mu: 1.76824e-02\n",
      "iter: 2, pri_resid: 5.96046e-08, dual_resid: 2.38419e-07, mu: 3.11300e-04\n",
      "iter: 3, pri_resid: 5.96046e-08, dual_resid: 1.19209e-07, mu: 3.14115e-07\n",
      "iter: 4, pri_resid: 1.78814e-07, dual_resid: 1.19209e-07, mu: 3.14099e-10\n",
      "iter: 5, pri_resid: 1.49012e-08, dual_resid: 0.00000e+00, mu: 3.14085e-13\n",
      "iter: 6, pri_resid: nan, dual_resid: nan, mu: nan\n",
      "iter: 7, pri_resid: nan, dual_resid: nan, mu: nan\n",
      "iter: 8, pri_resid: nan, dual_resid: nan, mu: nan\n",
      "tensor([[0.2500, 0.7500]])\n"
     ]
    }
   ],
   "source": [
    "# test qp example (Ans: 0.2500, 0.7500)\n",
    "Q = 2*torch.tensor([ [2, .5], [.5, 1] ])\n",
    "p = torch.tensor([1.0, 1.0])\n",
    "G = torch.tensor([[-1.0,0.0],[0.0,-1.0]])\n",
    "h = torch.tensor([0.0,0.0])\n",
    "A = torch.tensor([[1.0, 1.0]])\n",
    "b = torch.tensor(1.0)\n",
    "sol = qpth.qp.QPFunction(verbose=1)(Q, p, G, h, A, b)\n",
    "print(sol)"
   ]
  },
  {
   "cell_type": "code",
   "execution_count": null,
   "metadata": {
    "colab": {
     "base_uri": "https://localhost:8080/"
    },
    "executionInfo": {
     "elapsed": 467,
     "status": "ok",
     "timestamp": 1606920869841,
     "user": {
      "displayName": "Wei-Chun Lu",
      "photoUrl": "",
      "userId": "07494191892919665618"
     },
     "user_tz": 300
    },
    "id": "0pqPprk12hX2",
    "outputId": "7813f4e4-ed19-4b61-a43a-c4713ff46044"
   },
   "outputs": [
    {
     "name": "stdout",
     "output_type": "stream",
     "text": [
      "/content\n",
      "/content\n"
     ]
    }
   ],
   "source": [
    "# %cd /content\n",
    "# os.chdir(GOOGLE_DRIVE_PATH)\n",
    "#drive/MyDrive/EECS545/SVM-Variations\n",
    "# !pwd\n",
    "# print(GOOGLE_DRIVE_PATH)\n"
   ]
  }
 ],
 "metadata": {
  "@webio": {
   "lastCommId": null,
   "lastKernelId": null
  },
  "accelerator": "GPU",
  "colab": {
   "collapsed_sections": [],
   "name": "kernelSVM_try.ipynb",
   "provenance": []
  },
  "kernelspec": {
   "display_name": "Python 3",
   "language": "python",
   "name": "python3"
  },
  "language_info": {
   "codemirror_mode": {
    "name": "ipython",
    "version": 3
   },
   "file_extension": ".py",
   "mimetype": "text/x-python",
   "name": "python",
   "nbconvert_exporter": "python",
   "pygments_lexer": "ipython3",
   "version": "3.8.3"
  }
 },
 "nbformat": 4,
 "nbformat_minor": 1
}
