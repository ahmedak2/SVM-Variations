{
 "cells": [
  {
   "cell_type": "code",
   "execution_count": 3,
   "metadata": {
    "colab": {
     "base_uri": "https://localhost:8080/"
    },
    "executionInfo": {
     "elapsed": 5106,
     "status": "ok",
     "timestamp": 1606969592785,
     "user": {
      "displayName": "Wei-Chun Lu",
      "photoUrl": "",
      "userId": "07494191892919665618"
     },
     "user_tz": 300
    },
    "id": "YJQsltEnHVST",
    "outputId": "7cd36524-885e-49ed-f21a-90d5dd8990bc"
   },
   "outputs": [],
   "source": [
    "# Setup code for Google Colab\n",
    "USE_COLAB = True\n",
    "if USE_COLAB:\n",
    "    print(\"Using Colab!\")\n",
    "    %load_ext autoreload\n",
    "    %autoreload 2\n",
    "\n",
    "    from google.colab import drive\n",
    "    drive.mount('/content/drive')\n",
    "\n",
    "    import os\n",
    "    GOOGLE_DRIVE_PATH_AFTER_MYDRIVE = 'EECS545/SVM-Variations'\n",
    "    GOOGLE_DRIVE_PATH = os.path.join('drive', 'MyDrive', GOOGLE_DRIVE_PATH_AFTER_MYDRIVE)\n",
    "    print(os.listdir(GOOGLE_DRIVE_PATH))\n",
    "\n",
    "    import sys\n",
    "    sys.path.append(GOOGLE_DRIVE_PATH)\n",
    "\n",
    "    import torch\n",
    "    import torch.nn as nn\n",
    "    import torch.nn.functional as F\n",
    "    import torchvision\n",
    "    import statistics\n",
    "    import random\n",
    "    import time\n",
    "    import math\n",
    "    import numpy as np\n",
    "    import cv2\n",
    "    import copy\n",
    "    import shutil\n",
    "    import os\n",
    "    import json\n",
    "\n",
    "    import matplotlib.pyplot as plt\n",
    "    %matplotlib inline\n",
    "\n",
    "    !pip3 install -q idx2numpy\n",
    "\n",
    "    # install qp solver\n",
    "    !pip3 install -q qpth\n",
    "    import qpth\n",
    "\n",
    "    if torch.cuda.is_available:\n",
    "      print('Good to go!')\n",
    "    else:\n",
    "      print('Please set GPU via Edit -> Notebook Settings.')"
   ]
  },
  {
   "cell_type": "markdown",
   "metadata": {
    "id": "t4Zzy51GS8BY"
   },
   "source": [
    "## Test on toy example"
   ]
  },
  {
   "cell_type": "code",
   "execution_count": 3,
   "metadata": {},
   "outputs": [
    {
     "name": "stdout",
     "output_type": "stream",
     "text": [
      "tensor(1.)\n"
     ]
    }
   ],
   "source": [
    "a = torch.tensor([1,0], dtype=torch.float32)\n",
    "b = torch.tensor([1,1], dtype=torch.float32)\n",
    "print(torch.matmul(a,b))"
   ]
  },
  {
   "cell_type": "code",
   "execution_count": null,
   "metadata": {
    "id": "k9KStCr4HTPe"
   },
   "outputs": [
    {
     "name": "stdout",
     "output_type": "stream",
     "text": [
      "X: torch.Size([400, 2]) , Y: torch.Size([400]) , on cpu\n",
      "start QP...\n",
      "accuracy =  1.0\n"
     ]
    }
   ],
   "source": [
    "# Test kernel SVM by toy example\n",
    "import torch\n",
    "# import qpth\n",
    "import cvxopt\n",
    "import cvxopt.solvers\n",
    "import matplotlib.pyplot as plt\n",
    "from functions import *\n",
    "import scipy.io as sio\n",
    "from KernelSVM import *\n",
    "\n",
    "# Colab with GPU\n",
    "# X, Y = load_data(\"toy_example\", os.path.join(GOOGLE_DRIVE_PATH, \"Data/toy_data.mat\"), \"gpu\")\n",
    "# plot_data(X.cpu(), Y.cpu())\n",
    "# Colab with CPU\n",
    "# X, Y = load_data(\"toy_example\", os.path.join(GOOGLE_DRIVE_PATH, \"toy_data.mat\")) # four clusters\n",
    "# plot_data(X, Y)\n",
    "# Run locally with CPU\n",
    "X, Y = load_data(\"toy_example\") # four clusters\n",
    "plot_data(X, Y)\n",
    "\n",
    "# kernel = linear_kernel\n",
    "kernel = gaussian_kernel\n",
    "KSVM = apply_KSVM(kernel, X, Y, C=1e-2)#C=None, eps=1e-5\n",
    "KSVM.plot_classifier([-3, 3, -3, 3])\n",
    "# G torch.Size([400, 400]) h torch.Size([400])"
   ]
  },
  {
   "cell_type": "markdown",
   "metadata": {
    "id": "D5UUdBO3SFNq"
   },
   "source": [
    "## Test on Mnist dataset"
   ]
  },
  {
   "cell_type": "code",
   "execution_count": 2,
   "metadata": {
    "colab": {
     "base_uri": "https://localhost:8080/"
    },
    "executionInfo": {
     "elapsed": 313268,
     "status": "ok",
     "timestamp": 1606969960973,
     "user": {
      "displayName": "Wei-Chun Lu",
      "photoUrl": "",
      "userId": "07494191892919665618"
     },
     "user_tz": 300
    },
    "id": "wGF0eJCxMpat",
    "outputId": "3090dfc0-1c4a-47e1-d4c8-c54901aecbab"
   },
   "outputs": [
    {
     "name": "stdout",
     "output_type": "stream",
     "text": [
      "apply KSVM\n",
      "start QP...\n",
      "start QP...\n",
      "start QP...\n",
      "at C = None and eps = 1e-06 we get acc = 0.5083333253860474\n",
      "start QP...\n",
      "start QP...\n",
      "start QP...\n",
      "at C = None and eps = 1e-05 we get acc = 0.49166667461395264\n",
      "start QP...\n",
      "start QP...\n",
      "start QP...\n",
      "at C = None and eps = 0.0001 we get acc = 0.5083333253860474\n",
      "start QP...\n",
      "start QP...\n",
      "start QP...\n",
      "at C = None and eps = 0.001 we get acc = 0.4933333396911621\n",
      "Max we get at: C: None and eps = 1e-06 we get acc = 0.5083333253860474\n",
      "start QP...\n",
      "accuracy =  0.5\n",
      "t1 =  308.28234815597534\n"
     ]
    }
   ],
   "source": [
    "# Mnist Test Code\n",
    "import torch\n",
    "import qpth\n",
    "from KernelSVM import *\n",
    "import Mnist_loader as mnist\n",
    "x_train, y_train, x_test, y_test = mnist.load_odd_even_Mnist(num_train=600, num_test=100, USE_COLAB=True, path=GOOGLE_DRIVE_PATH)\n",
    "x_train, x_test, mu, std = mnist.preprocess_Mnist(x_train, x_test)\n",
    "\n",
    "# Our implement\n",
    "kernel = gaussian_kernel\n",
    "print(\"apply KSVM\")\n",
    "t0 = time.time()\n",
    "apply_KSVM(kernel, x_train, y_train, x_test, y_test, cross=True) #, x_test, y_test, C=1e2, eps=1e-3, cross=True\n",
    "t1 = time.time()-t0\n",
    "print(\"t1 = \", t1)\n",
    "# O(n_samples^2 * n_features)"
   ]
  },
  {
   "cell_type": "code",
   "execution_count": 5,
   "metadata": {
    "colab": {
     "base_uri": "https://localhost:8080/"
    },
    "executionInfo": {
     "elapsed": 33808,
     "status": "ok",
     "timestamp": 1606968814118,
     "user": {
      "displayName": "Wei-Chun Lu",
      "photoUrl": "",
      "userId": "07494191892919665618"
     },
     "user_tz": 300
    },
    "id": "Hezo5NXkxtTL",
    "outputId": "06c24bb6-cab2-467c-c9d5-c6a0dd1b7ffa"
   },
   "outputs": [
    {
     "name": "stdout",
     "output_type": "stream",
     "text": [
      "apply KSVM\n"
     ]
    },
    {
     "ename": "NameError",
     "evalue": "name 'x_train' is not defined",
     "output_type": "error",
     "traceback": [
      "\u001b[1;31m---------------------------------------------------------------------------\u001b[0m",
      "\u001b[1;31mNameError\u001b[0m                                 Traceback (most recent call last)",
      "\u001b[1;32m<ipython-input-5-8fe0028183e4>\u001b[0m in \u001b[0;36m<module>\u001b[1;34m\u001b[0m\n\u001b[0;32m      3\u001b[0m \u001b[0mprint\u001b[0m\u001b[1;33m(\u001b[0m\u001b[1;34m\"apply KSVM\"\u001b[0m\u001b[1;33m)\u001b[0m\u001b[1;33m\u001b[0m\u001b[1;33m\u001b[0m\u001b[0m\n\u001b[0;32m      4\u001b[0m \u001b[0mt0\u001b[0m \u001b[1;33m=\u001b[0m \u001b[0mtime\u001b[0m\u001b[1;33m.\u001b[0m\u001b[0mtime\u001b[0m\u001b[1;33m(\u001b[0m\u001b[1;33m)\u001b[0m\u001b[1;33m\u001b[0m\u001b[1;33m\u001b[0m\u001b[0m\n\u001b[1;32m----> 5\u001b[1;33m \u001b[0mapply_KSVM\u001b[0m\u001b[1;33m(\u001b[0m\u001b[0mkernel\u001b[0m\u001b[1;33m,\u001b[0m \u001b[0mx_train\u001b[0m\u001b[1;33m,\u001b[0m \u001b[0my_train\u001b[0m\u001b[1;33m,\u001b[0m \u001b[0mx_test\u001b[0m\u001b[1;33m,\u001b[0m \u001b[0my_test\u001b[0m\u001b[1;33m,\u001b[0m \u001b[0mC\u001b[0m\u001b[1;33m=\u001b[0m\u001b[1;36m1e-2\u001b[0m\u001b[1;33m)\u001b[0m \u001b[1;31m#, x_test, y_test, C=1e2, eps=1e-3, cross=True\u001b[0m\u001b[1;33m\u001b[0m\u001b[1;33m\u001b[0m\u001b[0m\n\u001b[0m\u001b[0;32m      6\u001b[0m \u001b[0mt1\u001b[0m \u001b[1;33m=\u001b[0m \u001b[0mtime\u001b[0m\u001b[1;33m.\u001b[0m\u001b[0mtime\u001b[0m\u001b[1;33m(\u001b[0m\u001b[1;33m)\u001b[0m\u001b[1;33m-\u001b[0m\u001b[0mt0\u001b[0m\u001b[1;33m\u001b[0m\u001b[1;33m\u001b[0m\u001b[0m\n\u001b[0;32m      7\u001b[0m \u001b[0mprint\u001b[0m\u001b[1;33m(\u001b[0m\u001b[1;34m\"t1 = \"\u001b[0m\u001b[1;33m,\u001b[0m \u001b[0mt1\u001b[0m\u001b[1;33m)\u001b[0m\u001b[1;33m\u001b[0m\u001b[1;33m\u001b[0m\u001b[0m\n",
      "\u001b[1;31mNameError\u001b[0m: name 'x_train' is not defined"
     ]
    }
   ],
   "source": [
    "# Our implement\n",
    "kernel = gaussian_kernel\n",
    "print(\"apply KSVM\")\n",
    "t0 = time.time()\n",
    "apply_KSVM(kernel, x_train, y_train, x_test, y_test, C=1e-2) #, x_test, y_test, C=1e2, eps=1e-3, cross=True\n",
    "t1 = time.time()-t0\n",
    "print(\"t1 = \", t1)\n",
    "# O(n_samples^2 * n_features)"
   ]
  },
  {
   "cell_type": "code",
   "execution_count": 3,
   "metadata": {
    "colab": {
     "base_uri": "https://localhost:8080/"
    },
    "executionInfo": {
     "elapsed": 1550667,
     "status": "ok",
     "timestamp": 1606971607934,
     "user": {
      "displayName": "Wei-Chun Lu",
      "photoUrl": "",
      "userId": "07494191892919665618"
     },
     "user_tz": 300
    },
    "id": "zS8bzQcYUwKN",
    "outputId": "0aa3c540-a60c-4c4b-bacb-ab2ef5880e21"
   },
   "outputs": [
    {
     "name": "stdout",
     "output_type": "stream",
     "text": [
      "apply KSVM\n",
      "tensor(0.9807)\n",
      "t1 =  1550.0617175102234\n"
     ]
    }
   ],
   "source": [
    "# sklearn\n",
    "x_train, y_train, x_test, y_test = mnist.load_odd_even_Mnist(USE_COLAB=True, path=GOOGLE_DRIVE_PATH)#num_train=600, num_test=100, \n",
    "x_train, x_test, mu, std = mnist.preprocess_Mnist(x_train, x_test)\n",
    "print(\"apply KSVM\")\n",
    "t0 = time.time()\n",
    "apply_sklearn_ksvm(x_train, y_train, x_test, y_test)\n",
    "t1 = time.time()-t0\n",
    "print(\"t1 = \", t1)"
   ]
  },
  {
   "cell_type": "markdown",
   "metadata": {
    "id": "hp7U0dSogQRx"
   },
   "source": [
    "## Test on SVM Guide 1"
   ]
  },
  {
   "cell_type": "code",
   "execution_count": 7,
   "metadata": {
    "colab": {
     "base_uri": "https://localhost:8080/",
     "height": 393
    },
    "executionInfo": {
     "elapsed": 207660,
     "status": "error",
     "timestamp": 1606964920268,
     "user": {
      "displayName": "Wei-Chun Lu",
      "photoUrl": "",
      "userId": "07494191892919665618"
     },
     "user_tz": 300
    },
    "id": "lAG0LisZQ8M-",
    "outputId": "d0fcb38c-3979-4757-f721-2804b137d30c"
   },
   "outputs": [
    {
     "name": "stdout",
     "output_type": "stream",
     "text": [
      "apply KSVM\n"
     ]
    },
    {
     "ename": "KeyboardInterrupt",
     "evalue": "ignored",
     "output_type": "error",
     "traceback": [
      "\u001b[0;31m---------------------------------------------------------------------------\u001b[0m",
      "\u001b[0;31mKeyboardInterrupt\u001b[0m                         Traceback (most recent call last)",
      "\u001b[0;32m<ipython-input-7-0fa10b28ecf6>\u001b[0m in \u001b[0;36m<module>\u001b[0;34m()\u001b[0m\n\u001b[1;32m      7\u001b[0m \u001b[0mprint\u001b[0m\u001b[0;34m(\u001b[0m\u001b[0;34m\"apply KSVM\"\u001b[0m\u001b[0;34m)\u001b[0m\u001b[0;34m\u001b[0m\u001b[0;34m\u001b[0m\u001b[0m\n\u001b[1;32m      8\u001b[0m \u001b[0mt0\u001b[0m \u001b[0;34m=\u001b[0m \u001b[0mtime\u001b[0m\u001b[0;34m.\u001b[0m\u001b[0mtime\u001b[0m\u001b[0;34m(\u001b[0m\u001b[0;34m)\u001b[0m\u001b[0;34m\u001b[0m\u001b[0;34m\u001b[0m\u001b[0m\n\u001b[0;32m----> 9\u001b[0;31m \u001b[0mapply_KSVM\u001b[0m\u001b[0;34m(\u001b[0m\u001b[0mkernel\u001b[0m\u001b[0;34m,\u001b[0m \u001b[0mx_train\u001b[0m\u001b[0;34m,\u001b[0m \u001b[0my_train\u001b[0m\u001b[0;34m,\u001b[0m \u001b[0mx_test\u001b[0m\u001b[0;34m,\u001b[0m \u001b[0my_test\u001b[0m\u001b[0;34m,\u001b[0m \u001b[0mC\u001b[0m\u001b[0;34m=\u001b[0m\u001b[0;32mNone\u001b[0m\u001b[0;34m,\u001b[0m \u001b[0meps\u001b[0m\u001b[0;34m=\u001b[0m\u001b[0;36m1e-3\u001b[0m\u001b[0;34m)\u001b[0m \u001b[0;31m#, x_test, y_test\u001b[0m\u001b[0;34m\u001b[0m\u001b[0;34m\u001b[0m\u001b[0m\n\u001b[0m\u001b[1;32m     10\u001b[0m \u001b[0mt1\u001b[0m \u001b[0;34m=\u001b[0m \u001b[0mtime\u001b[0m\u001b[0;34m.\u001b[0m\u001b[0mtime\u001b[0m\u001b[0;34m(\u001b[0m\u001b[0;34m)\u001b[0m\u001b[0;34m-\u001b[0m\u001b[0mt0\u001b[0m\u001b[0;34m\u001b[0m\u001b[0;34m\u001b[0m\u001b[0m\n\u001b[1;32m     11\u001b[0m \u001b[0mprint\u001b[0m\u001b[0;34m(\u001b[0m\u001b[0;34m\"t1 = \"\u001b[0m\u001b[0;34m,\u001b[0m \u001b[0mt1\u001b[0m\u001b[0;34m)\u001b[0m\u001b[0;34m\u001b[0m\u001b[0;34m\u001b[0m\u001b[0m\n",
      "\u001b[0;32m/content/drive/MyDrive/EECS545/SVM-Variations/KernelSVM.py\u001b[0m in \u001b[0;36mapply_KSVM\u001b[0;34m(kernel, x_train, y_train, x_test, y_test, cross, C, eps)\u001b[0m\n\u001b[1;32m    197\u001b[0m     \u001b[0;32melse\u001b[0m\u001b[0;34m:\u001b[0m\u001b[0;34m\u001b[0m\u001b[0;34m\u001b[0m\u001b[0m\n\u001b[1;32m    198\u001b[0m         \u001b[0mKSVM\u001b[0m \u001b[0;34m=\u001b[0m \u001b[0mkernelSVM\u001b[0m\u001b[0;34m(\u001b[0m\u001b[0mkernel\u001b[0m\u001b[0;34m,\u001b[0m \u001b[0mC\u001b[0m\u001b[0;34m,\u001b[0m \u001b[0meps\u001b[0m\u001b[0;34m)\u001b[0m \u001b[0;31m# default: C=None, eps=1e-3\u001b[0m\u001b[0;34m\u001b[0m\u001b[0;34m\u001b[0m\u001b[0m\n\u001b[0;32m--> 199\u001b[0;31m         \u001b[0mKSVM\u001b[0m\u001b[0;34m.\u001b[0m\u001b[0mtrain\u001b[0m\u001b[0;34m(\u001b[0m\u001b[0mx_train\u001b[0m\u001b[0;34m,\u001b[0m \u001b[0my_train\u001b[0m\u001b[0;34m,\u001b[0m \u001b[0mprint_progress\u001b[0m \u001b[0;34m=\u001b[0m \u001b[0;32mFalse\u001b[0m\u001b[0;34m)\u001b[0m\u001b[0;34m\u001b[0m\u001b[0;34m\u001b[0m\u001b[0m\n\u001b[0m\u001b[1;32m    200\u001b[0m \u001b[0;34m\u001b[0m\u001b[0m\n\u001b[1;32m    201\u001b[0m     \u001b[0my_pred\u001b[0m \u001b[0;34m=\u001b[0m \u001b[0mKSVM\u001b[0m\u001b[0;34m.\u001b[0m\u001b[0mpredict\u001b[0m\u001b[0;34m(\u001b[0m\u001b[0mx_test\u001b[0m\u001b[0;34m)\u001b[0m\u001b[0;34m\u001b[0m\u001b[0;34m\u001b[0m\u001b[0m\n",
      "\u001b[0;32m/content/drive/MyDrive/EECS545/SVM-Variations/KernelSVM.py\u001b[0m in \u001b[0;36mtrain\u001b[0;34m(self, X, y, print_progress)\u001b[0m\n\u001b[1;32m     53\u001b[0m             \u001b[0;32mfor\u001b[0m \u001b[0mj\u001b[0m \u001b[0;32min\u001b[0m \u001b[0mrange\u001b[0m\u001b[0;34m(\u001b[0m\u001b[0mN\u001b[0m\u001b[0;34m)\u001b[0m\u001b[0;34m:\u001b[0m\u001b[0;34m\u001b[0m\u001b[0;34m\u001b[0m\u001b[0m\n\u001b[1;32m     54\u001b[0m                 \u001b[0;32mif\u001b[0m \u001b[0mj\u001b[0m\u001b[0;34m>\u001b[0m\u001b[0mi\u001b[0m\u001b[0;34m:\u001b[0m\u001b[0;34m\u001b[0m\u001b[0;34m\u001b[0m\u001b[0m\n\u001b[0;32m---> 55\u001b[0;31m                     \u001b[0mkk\u001b[0m \u001b[0;34m=\u001b[0m \u001b[0mself\u001b[0m\u001b[0;34m.\u001b[0m\u001b[0mkernel\u001b[0m\u001b[0;34m(\u001b[0m\u001b[0mX\u001b[0m\u001b[0;34m[\u001b[0m\u001b[0mi\u001b[0m\u001b[0;34m,\u001b[0m\u001b[0;34m:\u001b[0m\u001b[0;34m]\u001b[0m\u001b[0;34m,\u001b[0m \u001b[0mX\u001b[0m\u001b[0;34m[\u001b[0m\u001b[0mj\u001b[0m\u001b[0;34m,\u001b[0m\u001b[0;34m:\u001b[0m\u001b[0;34m]\u001b[0m\u001b[0;34m)\u001b[0m\u001b[0;34m\u001b[0m\u001b[0;34m\u001b[0m\u001b[0m\n\u001b[0m\u001b[1;32m     56\u001b[0m                     \u001b[0mK\u001b[0m\u001b[0;34m[\u001b[0m\u001b[0mi\u001b[0m\u001b[0;34m,\u001b[0m\u001b[0mj\u001b[0m\u001b[0;34m]\u001b[0m \u001b[0;34m=\u001b[0m \u001b[0mkk\u001b[0m\u001b[0;34m\u001b[0m\u001b[0;34m\u001b[0m\u001b[0m\n\u001b[1;32m     57\u001b[0m                     \u001b[0mK\u001b[0m\u001b[0;34m[\u001b[0m\u001b[0mj\u001b[0m\u001b[0;34m,\u001b[0m\u001b[0mi\u001b[0m\u001b[0;34m]\u001b[0m \u001b[0;34m=\u001b[0m \u001b[0mkk\u001b[0m\u001b[0;34m\u001b[0m\u001b[0;34m\u001b[0m\u001b[0m\n",
      "\u001b[0;31mKeyboardInterrupt\u001b[0m: "
     ]
    }
   ],
   "source": [
    "# SVMGuide1 Test Code\n",
    "from SVMGuide_loader import load_SVMGuide1\n",
    "x_train, y_train, x_test, y_test, mu, std = load_SVMGuide1(USE_COLAB, GOOGLE_DRIVE_PATH)\n",
    "\n",
    "# Our implement\n",
    "kernel = gaussian_kernel\n",
    "print(\"apply KSVM\")\n",
    "t0 = time.time()\n",
    "apply_KSVM(kernel, x_train, y_train, x_test, y_test, C=None, eps=1e-3) #, x_test, y_test\n",
    "t1 = time.time()-t0\n",
    "print(\"t1 = \", t1)"
   ]
  },
  {
   "cell_type": "code",
   "execution_count": 4,
   "metadata": {
    "colab": {
     "base_uri": "https://localhost:8080/"
    },
    "executionInfo": {
     "elapsed": 1399,
     "status": "ok",
     "timestamp": 1606964512696,
     "user": {
      "displayName": "Wei-Chun Lu",
      "photoUrl": "",
      "userId": "07494191892919665618"
     },
     "user_tz": 300
    },
    "id": "Bdmp63AWieHr",
    "outputId": "4b0830b3-0ef9-4cee-fc23-76d4b73dd8e2"
   },
   "outputs": [
    {
     "name": "stdout",
     "output_type": "stream",
     "text": [
      "apply KSVM\n",
      "tensor(0.9675)\n",
      "t1 =  0.12215852737426758\n"
     ]
    }
   ],
   "source": [
    "# sklearn\n",
    "from SVMGuide_loader import load_SVMGuide1\n",
    "x_train, y_train, x_test, y_test, mu, std = load_SVMGuide1(USE_COLAB, GOOGLE_DRIVE_PATH)\n",
    "\n",
    "print(\"apply KSVM\")\n",
    "t0 = time.time()\n",
    "apply_sklearn_ksvm(x_train, y_train, x_test, y_test)\n",
    "t1 = time.time()-t0\n",
    "print(\"t1 = \", t1)"
   ]
  },
  {
   "cell_type": "markdown",
   "metadata": {
    "id": "g6S7x8JDgu9T"
   },
   "source": [
    "## No use"
   ]
  },
  {
   "cell_type": "code",
   "execution_count": null,
   "metadata": {
    "colab": {
     "base_uri": "https://localhost:8080/"
    },
    "executionInfo": {
     "elapsed": 467,
     "status": "ok",
     "timestamp": 1606920352311,
     "user": {
      "displayName": "Wei-Chun Lu",
      "photoUrl": "",
      "userId": "07494191892919665618"
     },
     "user_tz": 300
    },
    "id": "hQ0m0ej67lYE",
    "outputId": "513ecf5a-7c9f-4b15-b845-1e44cb323712"
   },
   "outputs": [
    {
     "name": "stdout",
     "output_type": "stream",
     "text": [
      "iter: 0, pri_resid: 2.98023e-08, dual_resid: 2.35702e+00, mu: 5.55556e-01\n",
      "iter: 1, pri_resid: 6.66400e-08, dual_resid: 6.12515e-02, mu: 1.76824e-02\n",
      "iter: 2, pri_resid: 5.96046e-08, dual_resid: 2.38419e-07, mu: 3.11300e-04\n",
      "iter: 3, pri_resid: 5.96046e-08, dual_resid: 1.19209e-07, mu: 3.14115e-07\n",
      "iter: 4, pri_resid: 1.78814e-07, dual_resid: 1.19209e-07, mu: 3.14099e-10\n",
      "iter: 5, pri_resid: 1.49012e-08, dual_resid: 0.00000e+00, mu: 3.14085e-13\n",
      "iter: 6, pri_resid: nan, dual_resid: nan, mu: nan\n",
      "iter: 7, pri_resid: nan, dual_resid: nan, mu: nan\n",
      "iter: 8, pri_resid: nan, dual_resid: nan, mu: nan\n",
      "tensor([[0.2500, 0.7500]])\n"
     ]
    }
   ],
   "source": [
    "# test qp example (Ans: 0.2500, 0.7500)\n",
    "Q = 2*torch.tensor([ [2, .5], [.5, 1] ])\n",
    "p = torch.tensor([1.0, 1.0])\n",
    "G = torch.tensor([[-1.0,0.0],[0.0,-1.0]])\n",
    "h = torch.tensor([0.0,0.0])\n",
    "A = torch.tensor([[1.0, 1.0]])\n",
    "b = torch.tensor(1.0)\n",
    "sol = qpth.qp.QPFunction(verbose=1)(Q, p, G, h, A, b)\n",
    "print(sol)"
   ]
  },
  {
   "cell_type": "code",
   "execution_count": null,
   "metadata": {
    "colab": {
     "base_uri": "https://localhost:8080/"
    },
    "executionInfo": {
     "elapsed": 467,
     "status": "ok",
     "timestamp": 1606920869841,
     "user": {
      "displayName": "Wei-Chun Lu",
      "photoUrl": "",
      "userId": "07494191892919665618"
     },
     "user_tz": 300
    },
    "id": "0pqPprk12hX2",
    "outputId": "7813f4e4-ed19-4b61-a43a-c4713ff46044"
   },
   "outputs": [
    {
     "name": "stdout",
     "output_type": "stream",
     "text": [
      "/content\n",
      "/content\n"
     ]
    }
   ],
   "source": [
    "# %cd /content\n",
    "# os.chdir(GOOGLE_DRIVE_PATH)\n",
    "#drive/MyDrive/EECS545/SVM-Variations\n",
    "# !pwd\n",
    "# print(GOOGLE_DRIVE_PATH)\n"
   ]
  }
 ],
 "metadata": {
  "@webio": {
   "lastCommId": null,
   "lastKernelId": null
  },
  "accelerator": "GPU",
  "colab": {
   "collapsed_sections": [],
   "name": "kernelSVM_try.ipynb",
   "provenance": []
  },
  "kernelspec": {
   "display_name": "Python 3",
   "language": "python",
   "name": "python3"
  },
  "language_info": {
   "codemirror_mode": {
    "name": "ipython",
    "version": 3
   },
   "file_extension": ".py",
   "mimetype": "text/x-python",
   "name": "python",
   "nbconvert_exporter": "python",
   "pygments_lexer": "ipython3",
   "version": "3.8.3"
  }
 },
 "nbformat": 4,
 "nbformat_minor": 1
}
