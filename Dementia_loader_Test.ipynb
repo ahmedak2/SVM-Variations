{
 "cells": [
  {
   "cell_type": "code",
   "execution_count": null,
   "metadata": {},
   "outputs": [],
   "source": [
    "from LinearSVM import *\n",
    "from Evaluate_models import *\n",
    "LSVM = LinearSVM() \n",
    "LSVM.__init__()\n",
    "time, acc = evaluate_model(LSVM, x_train, y_train, x_test, y_test)\n",
    "print(time, acc)"
   ]
  },
  {
   "cell_type": "code",
   "execution_count": null,
   "metadata": {},
   "outputs": [],
   "source": [
    "apply_sklearn_svm(x_train, y_train, x_test, y_test, max_iters = 1000)"
   ]
  },
  {
   "cell_type": "code",
   "execution_count": 1,
   "metadata": {},
   "outputs": [
    {
     "name": "stdout",
     "output_type": "stream",
     "text": [
      "0.36801695823669434 tensor(0.4722, device='cuda:0')\n"
     ]
    }
   ],
   "source": [
    "from Dementia_loader import dementia_loader\n",
    "x_train, y_train, x_test, y_test = dementia_loader()\n",
    "from LinearSVM import *\n",
    "from Evaluate_models import *\n",
    "LSVM = LinearSVM() \n",
    "LSVM.__init__()\n",
    "time, acc = evaluate_model(LSVM, x_train, y_train, x_test, y_test)\n",
    "print(time, acc)"
   ]
  },
  {
   "cell_type": "code",
   "execution_count": null,
   "metadata": {},
   "outputs": [],
   "source": []
  }
 ],
 "metadata": {
  "kernelspec": {
   "display_name": "Python 3",
   "language": "python",
   "name": "python3"
  },
  "language_info": {
   "codemirror_mode": {
    "name": "ipython",
    "version": 3
   },
   "file_extension": ".py",
   "mimetype": "text/x-python",
   "name": "python",
   "nbconvert_exporter": "python",
   "pygments_lexer": "ipython3",
   "version": "3.8.3"
  }
 },
 "nbformat": 4,
 "nbformat_minor": 4
}
