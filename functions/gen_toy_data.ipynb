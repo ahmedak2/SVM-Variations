{
 "cells": [
  {
   "cell_type": "code",
   "execution_count": 1,
   "metadata": {},
   "outputs": [
    {
     "data": {
      "image/png": "[encoded data removed]",
      "text/plain": [
       "<Figure size 432x288 with 1 Axes>"
      ]
     },
     "metadata": {
      "needs_background": "light"
     },
     "output_type": "display_data"
    },
    {
     "name": "stdout",
     "output_type": "stream",
     "text": [
      "Xdata (400, 2) Ydata (400,)\n"
     ]
    }
   ],
   "source": [
    "import numpy as np\n",
    "import scipy.io as sio\n",
    "import matplotlib.pyplot as plt\n",
    "\n",
    "s = 0.1\n",
    "n = 100\n",
    "G1 = np.random.multivariate_normal([2,0], [[s,0],[0,s]], n)\n",
    "G2 = np.random.multivariate_normal([-2,0], [[s,0],[0,s]], n)\n",
    "G3 = np.random.multivariate_normal([0,2], [[s,0],[0,s]], n)\n",
    "G4 = np.random.multivariate_normal([0,-2], [[s,0],[0,s]], n)\n",
    "# print(G1.shape)\n",
    "\n",
    "plt.scatter(G1[:,0], G1[:,1], color='r')\n",
    "plt.scatter(G2[:,0], G2[:,1], color='r')\n",
    "plt.scatter(G3[:,0], G3[:,1], color='b')\n",
    "plt.scatter(G4[:,0], G4[:,1], color='b')\n",
    "plt.figure(1)\n",
    "plt.show()\n",
    "\n",
    "\n",
    "Xdata = np.vstack((G1,G2,G3,G4))\n",
    "Ydata = np.hstack((np.zeros(2*n), np.ones(2*n)))\n",
    "print(\"Xdata\", Xdata.shape, \"Ydata\", Ydata.shape)\n",
    "sio.savemat(\"toy_data.mat\", {'Xdata': Xdata, 'Ydata': Ydata})"
   ]
  },
  {
   "cell_type": "code",
   "execution_count": null,
   "metadata": {},
   "outputs": [],
   "source": []
  },
  {
   "cell_type": "code",
   "execution_count": null,
   "metadata": {},
   "outputs": [],
   "source": []
  }
 ],
 "metadata": {
  "kernelspec": {
   "display_name": "Python 3",
   "language": "python",
   "name": "python3"
  },
  "language_info": {
   "codemirror_mode": {
    "name": "ipython",
    "version": 3
   },
   "file_extension": ".py",
   "mimetype": "text/x-python",
   "name": "python",
   "nbconvert_exporter": "python",
   "pygments_lexer": "ipython3",
   "version": "3.8.3"
  }
 },
 "nbformat": 4,
 "nbformat_minor": 4
}
