{
 "cells": [
  {
   "cell_type": "code",
   "execution_count": 1,
   "metadata": {},
   "outputs": [
    {
     "name": "stdout",
     "output_type": "stream",
     "text": [
      "X: torch.Size([400, 2]) Y: torch.Size([400])\n"
     ]
    },
    {
     "data": {
      "image/png": "[encoded data removed]",
      "text/plain": [
       "<Figure size 432x288 with 1 Axes>"
      ]
     },
     "metadata": {
      "needs_background": "light"
     },
     "output_type": "display_data"
    }
   ],
   "source": [
    "import numpy as np\n",
    "import scipy.io as sio\n",
    "import matplotlib.pyplot as plt\n",
    "import torch\n",
    "\n",
    "def load_data(mode):\n",
    "    \"\"\"\n",
    "    Returns:\n",
    "    X: (N,D) tensor containing N data points and each point has dimension D\n",
    "    Y: (N,) tensor with labels {0, 1}\n",
    "    \"\"\"\n",
    "    if mode == \"toy_example0\":\n",
    "        toy = sio.loadmat(\"toy_data0.mat\")\n",
    "        X = torch.tensor(toy[\"Xdata\"])\n",
    "        Y = torch.tensor(np.ravel(toy[\"Ydata\"]))\n",
    "        print(\"X:\", X.shape, \"Y:\", Y.shape)\n",
    "    \n",
    "    elif mode == \"toy_example\":\n",
    "        toy = sio.loadmat(\"toy_data.mat\")\n",
    "        X = torch.tensor(toy[\"Xdata\"])\n",
    "        Y = torch.tensor(np.ravel(toy[\"Ydata\"]))\n",
    "        print(\"X:\", X.shape, \"Y:\", Y.shape)\n",
    "        \n",
    "    elif mode == \"HW_example\":\n",
    "        nuclear = sio.loadmat(\"nuclear.mat\")\n",
    "        X = torch.tensor(nuclear[\"x\"].T)\n",
    "        Y = torch.tensor(np.ravel(nuclear[\"y\"]-1)/2)\n",
    "        #Y = torch.tensor(np.ravel(nuclear[\"y\"]-1)/2) #-1/+1 => 0/1\n",
    "        print(\"X:\", X.shape, \"Y:\", Y.shape)\n",
    "        \n",
    "    else:\n",
    "        print(\"No mode matched:\", mode)\n",
    "        X = torch.tensor([0])\n",
    "        Y = torch.tensor([0])\n",
    "        \n",
    "    return X, Y\n",
    "            \n",
    "def plot_data(X, Y):\n",
    "    \"\"\"\n",
    "    Note: only for D=2 now!!\n",
    "    Input:\n",
    "    X: (N,D) tensor containing N data points and each point has dimension D\n",
    "    Y: (N,) tensor with labels\n",
    "    \"\"\"\n",
    "    K = torch.unique(Y, sorted=True)\n",
    "    for k in range(K.shape[0]):\n",
    "        plt.scatter(X[Y==K[k], 0], X[Y==K[k], 1])\n",
    "\n",
    "\n",
    "def plot_classifier(W, plot_range):\n",
    "    \"\"\"\n",
    "    Note: only for D=2 now!!\n",
    "    Input:\n",
    "    W: (D,C) tensor where D is data points dimension and C is number of classes\n",
    "    plot_range = [x_low, x_upper, y_low, y_upper] array like \n",
    "    \"\"\"\n",
    "    W = np.array(W)\n",
    "    x = np.linspace(plot_range[0], plot_range[1], 50)\n",
    "    y = np.linspace(plot_range[2], plot_range[3], 50)\n",
    "    xx, yy = np.meshgrid(x, y, sparse=True)\n",
    "    z1 = W[0,0] + W[1,0]*xx + W[2,0]*yy\n",
    "    z2 = W[0,1] + W[1,1]*xx + W[2,1]*yy\n",
    "    z = np.argmax(np.dstack((z1, z2)), axis=2)\n",
    "    h = plt.contourf(x, y, z, alpha=0.1)\n",
    "    plt.show()\n",
    "\n",
    "\n",
    "\n",
    "    \n",
    "# Testing    \n",
    "X, Y = load_data(\"toy_example\")\n",
    "plot_data(X, Y)\n",
    "\n",
    "W = torch.tensor([[1,2],[2,3],[1,2]])\n",
    "plot_range = [-3, 3, -3, 3]\n",
    "plot_classifier(W, plot_range)"
   ]
  },
  {
   "cell_type": "code",
   "execution_count": null,
   "metadata": {},
   "outputs": [],
   "source": []
  }
 ],
 "metadata": {
  "kernelspec": {
   "display_name": "Python 3",
   "language": "python",
   "name": "python3"
  },
  "language_info": {
   "codemirror_mode": {
    "name": "ipython",
    "version": 3
   },
   "file_extension": ".py",
   "mimetype": "text/x-python",
   "name": "python",
   "nbconvert_exporter": "python",
   "pygments_lexer": "ipython3",
   "version": "3.8.3"
  }
 },
 "nbformat": 4,
 "nbformat_minor": 4
}
