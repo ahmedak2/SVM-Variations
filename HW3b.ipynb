{
 "metadata": {
  "language_info": {
   "codemirror_mode": {
    "name": "ipython",
    "version": 3
   },
   "file_extension": ".py",
   "mimetype": "text/x-python",
   "name": "python",
   "nbconvert_exporter": "python",
   "pygments_lexer": "ipython3",
   "version": 3
  },
  "orig_nbformat": 2
 },
 "nbformat": 4,
 "nbformat_minor": 2,
 "cells": [
  {
   "cell_type": "code",
   "execution_count": null,
   "metadata": {},
   "outputs": [],
   "source": [
    "import numpy as np\n",
    "import scipy.io as sio\n",
    "import matplotlib.pyplot as plt\n",
    "\n",
    "import SVMClass\n",
    "\n",
    "np.random.seed(0)\n"
   ]
  },
  {
   "source": [
    "# Loading Dataset and Preporcessing"
   ],
   "cell_type": "markdown",
   "metadata": {}
  },
  {
   "cell_type": "code",
   "execution_count": null,
   "metadata": {},
   "outputs": [],
   "source": [
    "nuclear = sio.loadmat('nuclear.mat')\n",
    "\n",
    "x = nuclear['x']\n",
    "y = nuclear['y']\n",
    "\n",
    "ones_x = np.ones((1,x.shape[1]))\n",
    "x_with_ones = np.concatenate((ones_x,x))\n",
    "\n",
    "N = x.shape[1]\n",
    "\n",
    "# split the dataset\n",
    "idx_split = np.ceil(N*0.9)\n",
    "\n",
    "x_train = x_with_ones[:,:idx_split]\n",
    "y_train = y[:idx_split]\n",
    "\n",
    "x_test = x_with_ones[:,idx_split:]\n",
    "y_test = y[idx_split:]"
   ]
  },
  {
   "cell_type": "code",
   "execution_count": null,
   "metadata": {},
   "outputs": [],
   "source": [
    "LSVM = LinearSVM()\n",
    "\n",
    "loss_history = LSVM.train(x_train, y_train)\n",
    "\n",
    "y_pred = LSVM.predict(x_test)"
   ]
  },
  {
   "source": [
    "# Plotting"
   ],
   "cell_type": "markdown",
   "metadata": {}
  },
  {
   "cell_type": "code",
   "execution_count": null,
   "metadata": {},
   "outputs": [],
   "source": [
    "W = LSVM.W[:,0]\n",
    "\n",
    "b = W[0]\n",
    "w1 = W[1]\n",
    "w2 = W[2]\n",
    "\n",
    "x0_vals = np.linspace(0, 8, 8)\n",
    "y_vals = (-b - w1.dot(x0_vals.reshape(1, -1))) / w2\n",
    "\n",
    "plt.figure(1)\n",
    "plt.plot(x0_vals, y_vals, color='black', label='Learned line')\n",
    "\n",
    "\n",
    "plt.figure(1)\n",
    "plt.plot(loss_history)\n",
    "plt.title('Objective function J')\n",
    "plt.show()"
   ]
  }
 ]
}