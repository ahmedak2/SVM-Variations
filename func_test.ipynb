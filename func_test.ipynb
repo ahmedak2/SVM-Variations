{
 "cells": [
  {
   "cell_type": "code",
   "execution_count": 23,
   "metadata": {},
   "outputs": [
    {
     "name": "stdout",
     "output_type": "stream",
     "text": [
      "x (2, 20000) y (1, 20000)\n",
      "J =  0.33117277338313583\n",
      "dJ =  [[-0.00017364]\n",
      " [-0.0026271 ]\n",
      " [ 0.01316017]]\n",
      "accuray =  0.9444\n"
     ]
    }
   ],
   "source": [
    "\"\"\"\n",
    "This script tests the predict and loss function I write in the SVMClass.py\n",
    "\"\"\"\n",
    "# import torch\n",
    "import numpy as np\n",
    "import scipy.io as sio # for loading HW data\n",
    "# import SVMClass\n",
    "\n",
    "\n",
    "def predict(W, X):\n",
    "    \"\"\"\n",
    "        Takes in the test data and outputs a prediction torch\n",
    "    \"\"\"\n",
    "    n = X.shape[1]\n",
    "    X_til = np.vstack([np.ones((1, n)), X])\n",
    "    pred = np.sign(np.dot(W.T, X_til))\n",
    "    return pred\n",
    "\n",
    "def loss(W, X_batch, y_batch, reg):\n",
    "    \"\"\"\n",
    "    Note:\n",
    "    class label: -1, +1\n",
    "    W: Weight [b w1... wd].T with shape (D+1,)\n",
    "    L: Hinge loss max{0, 1-yi(w.T*xi+b)} for N data points. Shape is (N,).\n",
    "    J: Objective function. Scalar.\n",
    "    dJ: Derivative of J wrt w. Use subgradient at the non-differentiable points. Shape is (D+1, 1).\n",
    "    \"\"\"\n",
    "    n = X_batch.shape[1]\n",
    "    X = np.vstack([np.ones((1, n)), X_batch])\n",
    "    L = 1 - y_batch * np.dot(W.T, X)\n",
    "    idx = L[0,:]<0\n",
    "    L[:, idx] = 0.0\n",
    "    y_select = y_batch.copy() # for subgradient dJ\n",
    "    y_select[:, idx] = 0 # if yi*theta.T*xi >1, no -yi*xi/n term\n",
    "\n",
    "    J = np.sum(L)/n + reg/2*np.dot(W[1:,:].T, W[1:,:])\n",
    "    dJ = -np.dot(X, y_select.T) /n + reg*W\n",
    "    \n",
    "    # ensure the size\n",
    "    J = float(J)\n",
    "\n",
    "    return J, dJ\n",
    "\n",
    "\n",
    "# Load test data from HW3 3b\n",
    "np.random.seed(0)\n",
    "nuclear = sio.loadmat('nuclear.mat')\n",
    "x = nuclear['x']\n",
    "y = nuclear['y']\n",
    "print(\"x\", x.shape, \"y\", y.shape)\n",
    "\n",
    "# Assume training finished\n",
    "W = np.array([[-1.02364424], [-3.48565985], [17.2306597]])\n",
    "reg = 0.001\n",
    "J, dJ = loss(W, x, y, reg)\n",
    "pred = predict(W, x)\n",
    "print(\"J = \", J)\n",
    "print(\"dJ = \", dJ)\n",
    "print(\"accuray = \", np.sum((pred==y)*1)/y.shape[1] )\n",
    "\n",
    "# J =  0.33117277335428835\n",
    "\n",
    "# # Set the classifier\n",
    "# C_linear = LinearSVM()\n",
    "# reg = 0.001\n",
    "# # Check the funciton\n",
    "# C_linear.loss(W, x, y, reg)\n"
   ]
  },
  {
   "cell_type": "code",
   "execution_count": null,
   "metadata": {},
   "outputs": [],
   "source": []
  },
  {
   "cell_type": "code",
   "execution_count": null,
   "metadata": {},
   "outputs": [],
   "source": []
  }
 ],
 "metadata": {
  "kernelspec": {
   "display_name": "Python 3",
   "language": "python",
   "name": "python3"
  },
  "language_info": {
   "codemirror_mode": {
    "name": "ipython",
    "version": 3
   },
   "file_extension": ".py",
   "mimetype": "text/x-python",
   "name": "python",
   "nbconvert_exporter": "python",
   "pygments_lexer": "ipython3",
   "version": "3.8.3"
  }
 },
 "nbformat": 4,
 "nbformat_minor": 4
}
